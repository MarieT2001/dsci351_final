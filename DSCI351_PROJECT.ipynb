{
 "cells": [
  {
   "cell_type": "code",
   "execution_count": null,
   "metadata": {},
   "outputs": [],
   "source": [
    "import os\n",
    "import mysql.connector\n",
    "import pandas as pd"
   ]
  },
  {
   "cell_type": "code",
   "execution_count": null,
   "metadata": {},
   "outputs": [],
   "source": [
    "connection = mysql.connector.connect(user = 'YaoyuTang',\n",
    "                                    passwd = 'Ty18581348737',\n",
    "                                    host = '127.0.0.1',\n",
    "                                    auth_plugin = 'mysql_native_password',\n",
    "                                     database = 'new_schema')\n",
    "cursor = connection.cursor(prepared=True)"
   ]
  },
  {
   "cell_type": "code",
   "execution_count": null,
   "metadata": {},
   "outputs": [],
   "source": [
    "connection"
   ]
  },
  {
   "cell_type": "markdown",
   "metadata": {},
   "source": [
    "# Hi, my friend! Which field do you want to explore with me?\n"
   ]
  },
  {
   "cell_type": "markdown",
   "metadata": {},
   "source": [
    "if you want to explore a certain movie, please type **\"movie\"**\n",
    "<br>\n",
    "if you want to explore movies according to their released year, please type **\"year\"**\n",
    "<br>\n",
    "if you want to explore movies according to their Certificate, please type **\"certificate\"**\n",
    "<br>\n",
    "if you want to explore movies according to their genre, please type **\"genre\"**\n",
    "<br>\n",
    "if you want to explore movies according to their ratings, please type **\"rating\"**\n",
    "<br>\n",
    "if you want to explore movies according to their meta score, please type **\"meta\"**\n",
    "<br>\n",
    "if you want to explore movies according to their directors, please type **\"directors\"**\n",
    "<br>\n",
    "if you want to explore movies according to actors and actresses invovled, please type **\"star\"**\n",
    "<br>\n",
    "if you want to explore movies according to the number of votes, please type **\"vote\"**\n"
   ]
  },
  {
   "cell_type": "code",
   "execution_count": null,
   "metadata": {},
   "outputs": [],
   "source": [
    "field_explore = input(\"please choose your field\")\n",
    "category = [\"year\",\"certificate\",\"genre\",\"rating\",\"meta\",\"directors\",\"star\",\"movie\",\"vote\"]\n",
    "while field_explore not in category:\n",
    "    print(\"invalid input\")\n",
    "    field_explore = input(\"please choose your field\")"
   ]
  },
  {
   "cell_type": "code",
   "execution_count": null,
   "metadata": {},
   "outputs": [],
   "source": [
    "def explore_movie(movie_name):\n",
    "    txt3 = \"select * from imdb_top_1000 where Series_Title = {}\".format(movie_name)\n",
    "    top = pd.read_sql_query(txt3,connection)\n",
    "    \n",
    "    cursor.execute(txt3)\n",
    "    mylist = list(cursor)\n",
    "    if len(mylist) == 0:\n",
    "        print(\"We didn't find the movie you are looking for.\")\n",
    "    else:\n",
    "        print(top)\n",
    "                      "
   ]
  },
  {
   "cell_type": "code",
   "execution_count": null,
   "metadata": {},
   "outputs": [],
   "source": [
    "def a_specific_movie():\n",
    "    try_yes = True\n",
    "    while try_yes == True:\n",
    "        movie_name = input(\"please input the name of the movie you want to explore\")\n",
    "        movie_name = \"'{}'\".format(movie_name)\n",
    "        explore_movie(movie_name) \n",
    "        try_again = input(\"do you want to look at another movie- y means yes and n means no\")\n",
    "                      \n",
    "        if try_again == 'y':\n",
    "            try_yes = True\n",
    "        else:\n",
    "            try_yes = False\n",
    "            break"
   ]
  },
  {
   "cell_type": "code",
   "execution_count": null,
   "metadata": {},
   "outputs": [],
   "source": [
    "if field_explore == \"movie\":\n",
    "        movie_name = input(\"please input the name of the movie you want to explore\")\n",
    "        movie_name = \"'{}'\".format(movie_name)\n",
    "        explore_movie(movie_name) \n",
    "        "
   ]
  },
  {
   "cell_type": "markdown",
   "metadata": {},
   "source": [
    "# if you want to explore Year ~\n"
   ]
  },
  {
   "cell_type": "code",
   "execution_count": null,
   "metadata": {},
   "outputs": [],
   "source": [
    "def explore_year(year):\n",
    "    txt3 = \"select count(*) as number_of_movie from imdb_top_1000 where Released_Year = {}\".format(year)\n",
    "    top = pd.read_sql_query(txt3,connection)\n",
    "    print(\"in this year, the number of movies among IMDB top 1000 movies is :\")\n",
    "    print(top)\n",
    "    print(\"These movies are:\")\n",
    "    txt4 = \"select Series_Title from imdb_top_1000 where Released_Year = {}\".format(year)\n",
    "    top1 = pd.read_sql_query(txt4,connection)\n",
    "    print(top1)"
   ]
  },
  {
   "cell_type": "code",
   "execution_count": null,
   "metadata": {},
   "outputs": [],
   "source": [
    "def stat_year():\n",
    "    print(\"let's look at some statistics of the released year\")\n",
    "    print(\"the year(\\s)\\ with the maximum movie production:\")\n",
    "    year_most = pd.read_sql_query('select Released_Year, count(*) as number_of_movies from imdb_top_1000 group by Released_Year having count(*) >= all(select count(*) from imdb_top_1000 group by Released_Year)',connection)\n",
    "    print(year_most)\n",
    "    print(\"the year(\\s)\\ with the minimum movie production:\")\n",
    "    year_least = pd.read_sql_query('select Released_Year, count(*) as number_of_movies from imdb_top_1000 group by Released_Year having count(*) <= all(select count(*) from imdb_top_1000 group by Released_Year)',connection)\n",
    "    print(year_least)\n",
    "    print(\"on average, the number of movie production in every year is :\")\n",
    "    avg_pro = pd.read_sql_query('select count(distinct Series_title)/count(distinct Released_year) as avg_production from imdb_top_1000 ',connection)\n",
    "    print(avg_pro)\n",
    "    print(\"top 5 years with the highest average IMDB rating: \")\n",
    "    top = pd.read_sql_query('select Released_year, avg(IMDB_Rating) from imdb_top_1000 group by Released_year order by avg(IMDB_Rating) desc limit 5',connection)\n",
    "    print(top)\n",
    "    \n",
    "    \n",
    "    "
   ]
  },
  {
   "cell_type": "code",
   "execution_count": null,
   "metadata": {
    "scrolled": false
   },
   "outputs": [],
   "source": [
    "if field_explore == \"year\":\n",
    "        maxminyear = pd.read_sql_query('select max(Released_Year), min(Released_Year) from imdb_top_1000',connection)\n",
    "        print(\"careful, the newst and the oldest movie was created in:\")\n",
    "        print(maxminyear)\n",
    "        year = int(input(\"Which year do you want to explore?\"))\n",
    "        query_year = \"\"\"select distinct Released_Year from imdb_top_1000\"\"\"\n",
    "        cursor.execute(query_year)\n",
    "        my_l = list(cursor)\n",
    "        ifin = True\n",
    "        yes = 0\n",
    "        while ifin == True:\n",
    "            for i in my_l:\n",
    "                if i[0] == year:\n",
    "                    yes = 1\n",
    "                    break\n",
    "            if yes == 1:\n",
    "                print(\"got it\")\n",
    "                break\n",
    "            else:\n",
    "                print(\"invalid input\")\n",
    "                year = int(input(\"invalid. Please input again \"))\n",
    "                \n",
    "        explore_year(year)\n",
    "        \n",
    "        specific_movie_yes = input(\"do you want to look at any of these movies closely? type y/n\")\n",
    "        if specific_movie_yes == 'y':                  \n",
    "            a_specific_movie()\n",
    "        ask = input(\"do you want to see more statistics of this field. please type y/n\")\n",
    "        if ask == 'y':\n",
    "            stat_year()       \n",
    "                \n",
    "        \n",
    "\n"
   ]
  },
  {
   "cell_type": "markdown",
   "metadata": {},
   "source": [
    "# if you want to explore a genre ~"
   ]
  },
  {
   "cell_type": "code",
   "execution_count": null,
   "metadata": {},
   "outputs": [],
   "source": [
    "def explore_genre(genre):\n",
    "    txt3 = \"select count(*) from imdb_top_1000 where Genre like '%{}%'\".format(genre)\n",
    "    top = pd.read_sql_query(txt3,connection)\n",
    "    print(\"the number of movies in this genre:\")\n",
    "    print(top)\n",
    "    print(\"These movies are:\")\n",
    "    txt4 = \"select Series_Title from imdb_top_1000 where Genre like '%{}%'\".format(genre)\n",
    "    top2 = pd.read_sql_query(txt4,connection)\n",
    "    print(top2)\n",
    "   \n",
    "    "
   ]
  },
  {
   "cell_type": "code",
   "execution_count": null,
   "metadata": {},
   "outputs": [],
   "source": [
    "def stat_genre():\n",
    "    print(\"let's look at some statistics of the certificate\")\n",
    "    print(\"the genre with the maximum movie production:\")\n",
    "    genre_most = pd.read_sql_query('select Genre, count(*) as number_of_movies from imdb_top_1000 group by Genre having count(*) >= all(select count(*) from imdb_top_1000 group by Genre)',connection)\n",
    "    print(genre_most)\n",
    "    print(\"the certificate category with the minimum movie production:\")\n",
    "    genre_least = pd.read_sql_query('select Genre, count(*) as number_of_movies from imdb_top_1000 group by Genre having count(*) <= all(select count(*) from imdb_top_1000 group by Genre)',connection)\n",
    "    print(\"on average, the number of movie production in each genre is :\")\n",
    "    avg_pro = pd.read_sql_query('select count(distinct Series_title)/count(distinct Genre) as avg_production from imdb_top_1000 ',connection)\n",
    "    print(avg_pro)\n",
    "    print(\"top 5 genre with the highest average IMDB rating: \")\n",
    "    top = pd.read_sql_query('select Genre, avg(IMDB_Rating) from imdb_top_1000 group by Genre order by avg(IMDB_Rating) desc limit 5',connection)\n",
    "    print(top)\n",
    "    \n",
    "    \n",
    "\n",
    "    \n",
    "    \n",
    "\n",
    "    "
   ]
  },
  {
   "cell_type": "code",
   "execution_count": null,
   "metadata": {},
   "outputs": [],
   "source": [
    "if field_explore == \"genre\":\n",
    "        num_gen = pd.read_sql_query('select count(distinct Genre) from imdb_top_1000',connection)\n",
    "        print(\"the number of genras in total\")\n",
    "        print(num_gen)\n",
    "        genre = input(\"Which genre do you want to know more about? \")\n",
    "        explore_genre(genre)\n",
    "        specific_movie_yes = input(\"do you want to look at any of these movies closely? type y/n\")\n",
    "        if specific_movie_yes == 'y':                  \n",
    "            a_specific_movie()\n",
    "        ask = input(\"do you want to see more statistics of this field. please type y/n\")\n",
    "        if ask == 'y':\n",
    "            stat_genre()             "
   ]
  },
  {
   "cell_type": "markdown",
   "metadata": {},
   "source": [
    "# if you want to explore a certificate ~"
   ]
  },
  {
   "cell_type": "code",
   "execution_count": null,
   "metadata": {},
   "outputs": [],
   "source": [
    "def explore_certificate(certificate):\n",
    "    certificate = \"'{}'\".format(certificate)\n",
    "    txt3 = \"select count(*) from imdb_top_1000 where Certificate = {}\".format(certificate)\n",
    "    top = pd.read_sql_query(txt3,connection)\n",
    "    print(\"the number of movies in this certification:\") \n",
    "    print(top)\n",
    "    print(\"These movies are:\")\n",
    "    txt4 = \"select Series_Title from imdb_top_1000 where Certificate = {}\".format(certificate)\n",
    "    top1 = pd.read_sql_query(txt4,connection)\n",
    "    print(top1)"
   ]
  },
  {
   "cell_type": "code",
   "execution_count": null,
   "metadata": {},
   "outputs": [],
   "source": [
    "def stat_certificate():\n",
    "    print(\"let's look at some statistics of the certificate\")\n",
    "    print(\"the certificate category with the maximum movie production:\")\n",
    "    certi_most = pd.read_sql_query('select Certificate, count(*) as number_of_movies from imdb_top_1000 group by Certificate having count(*) >= all(select count(*) from imdb_top_1000 group by Certificate)',connection)\n",
    "    print(certi_most)\n",
    "    print(\"the certificate category with the minimum movie production:\")\n",
    "    certi_least = pd.read_sql_query('select Certificate, count(*) as number_of_movies from imdb_top_1000 group by Certificate having count(*) <= all(select count(*) from imdb_top_1000 group by Certificate)',connection)\n",
    "    print(\"on average, the number of movie production in each certification category is :\")\n",
    "    avg_pro = pd.read_sql_query('select count(distinct Series_title)/count(distinct Certificate) as avg_production from imdb_top_1000 ',connection)\n",
    "    print(avg_pro)\n",
    "    print(\"the certification with the highest average IMDB rating: \")\n",
    "    top = pd.read_sql_query('select Certificate, avg(IMDB_Rating) from imdb_top_1000 group by Certificate order by avg(IMDB_Rating) desc limit 1',connection)\n",
    "    print(top)\n",
    "\n",
    "\n",
    "    \n",
    "  \n",
    "    \n",
    "    \n",
    "    "
   ]
  },
  {
   "cell_type": "code",
   "execution_count": null,
   "metadata": {},
   "outputs": [],
   "source": [
    "if field_explore == \"certificate\":\n",
    "        num_certificate = pd.read_sql_query('select count(distinct certificate) from imdb_top_1000 where certificate != \"\"',connection)\n",
    "        print(\"the number of different kinds of crtificates\")\n",
    "        print(num_certificate)\n",
    "        print(\"They are:\")\n",
    "        kinds_of_certificate = pd.read_sql_query('select distinct certificate from imdb_top_1000 where certificate != \"\"',connection)\n",
    "        print(kinds_of_certificate)\n",
    "        certificate = input(\"Which certificate do you want to explore? \")\n",
    "        mystr = \"bytearray(b'{}')\".format(certificate)\n",
    "        print(mystr)\n",
    "        query_year = \"\"\"select distinct certificate from imdb_top_1000 where certificate != ''\"\"\"\n",
    "        cursor.execute(query_year)\n",
    "        my_l = list(cursor)\n",
    "        ifin = True\n",
    "        yes = 0\n",
    "        while ifin == True:\n",
    "            for i in my_l:\n",
    "                if str(i[0]) == mystr:\n",
    "                    yes = 1\n",
    "                    break\n",
    "            if yes == 1:\n",
    "                print(\"got it\")\n",
    "                break\n",
    "            else:\n",
    "                print(\"invalid input\")\n",
    "                certificate = input(\"invalid.Please input again\")\n",
    "                mystr = \"bytearray(b'{}')\".format(certificate)\n",
    "\n",
    "        explore_certificate(certificate)\n",
    "        \n",
    "        specific_movie_yes = input(\"do you want to look at any of these movies closely? type y/n\")\n",
    "        if specific_movie_yes == 'y':                  \n",
    "            a_specific_movie()\n",
    "        ask = input(\"do you want to see more statistics of this field. please type y/n\")\n",
    "        if ask == 'y':\n",
    "            stat_certificate()"
   ]
  },
  {
   "cell_type": "markdown",
   "metadata": {},
   "source": [
    "# if you want to explore a specific range of rating ~"
   ]
  },
  {
   "cell_type": "code",
   "execution_count": null,
   "metadata": {},
   "outputs": [],
   "source": [
    "def explore_rating(min_rate,max_rate):\n",
    "    txt3 = \"select count(*) from imdb_top_1000 where IMDB_Rating < {} and IMDB_Rating > {}\".format(max_rate,min_rate)\n",
    "    top = pd.read_sql_query(txt3,connection)\n",
    "    print(\"the number of movies in this score range:\")\n",
    "    print(top)\n",
    "    print(\"These movies are:\")\n",
    "    txt4 = \"select Series_Title from imdb_top_1000 where IMDB_Rating < {} and IMDB_Rating > {}\".format(max_rate,min_rate)\n",
    "    top2 = pd.read_sql_query(txt4,connection)\n",
    "    print(top2)"
   ]
  },
  {
   "cell_type": "code",
   "execution_count": null,
   "metadata": {},
   "outputs": [],
   "source": [
    "if field_explore == \"rating\":\n",
    "        print(\"the lowest score among all movies is 7.6 and the highest score is 9.3\")\n",
    "        print(\"you can type in your score range and we will show you movies whose ratings are within the range\")\n",
    "        min_rate = int(input(\"you want movies whose ratings are higher than what value - smallest value of your score range\"))\n",
    "        max_rate = int(input(\"you want movies whose ratings are lower than what value - largest value of your score range\"))\n",
    "        explore_rating(min_rate,max_rate)\n",
    "        specific_movie_yes = input(\"do you want to look at any of these movies closely? type y/n\")\n",
    "        if specific_movie_yes == 'y':                  \n",
    "            a_specific_movie()\n",
    "        "
   ]
  },
  {
   "cell_type": "markdown",
   "metadata": {},
   "source": [
    "# if you want to explore a specific range of meta score ~"
   ]
  },
  {
   "cell_type": "code",
   "execution_count": null,
   "metadata": {},
   "outputs": [],
   "source": [
    "def explore_meta(meta_max,meta_min):\n",
    "    txt3 = \"select count(*) from imdb_top_1000 where Meta_score < {} and Meta_score > {}\".format(meta_max,meta_min)\n",
    "    top = pd.read_sql_query(txt3,connection)\n",
    "    print(\"the number of movies in this score range:\")\n",
    "    print(top)\n",
    "    print(\"These movies are:\")\n",
    "    txt4 = \"select Series_Title from imdb_top_1000 where Meta_score < {} and Meta_score > {}\".format(meta_max,meta_min)\n",
    "    top2 = pd.read_sql_query(txt4,connection)\n",
    "    print(top2)"
   ]
  },
  {
   "cell_type": "code",
   "execution_count": null,
   "metadata": {},
   "outputs": [],
   "source": [
    "def stat_meta():\n",
    "    \n",
    "    print(\"let's look at some statistics of meta scores\")\n",
    "    print(\"the average meta scores of all movies is:\")\n",
    "    avg_meta = pd.read_sql_query('select avg(Meta_score) from imdb_top_1000',connection)\n",
    "    print(avg_meta)\n",
    "    print(\"top 5 years with the highest average meta score:\")\n",
    "    top1 = pd.read_sql_query('select Released_year, avg(Meta_score) from imdb_top_1000 group by Released_year order by avg(Meta_score) desc limit 5',connection )\n",
    "    print(top1)\n",
    "    print(\"the certification with the highest average meta score: \")\n",
    "    top2 = pd.read_sql_query('select Certificate, avg(Meta_score) from imdb_top_1000 group by Certificate order by avg(Meta_score) desc limit 1',connection)\n",
    "    print(top2)\n",
    "    print(\"top 5 genre with the highest average meta score: \")\n",
    "    top3 = pd.read_sql_query('select Genre, avg(Meta_score) from imdb_top_1000 group by Genre order by avg(Meta_score) desc limit 5',connection )\n",
    "    print(top3)\n",
    "    print(\"top 5 directors with the highest average meta score: \")\n",
    "    top4 = pd.read_sql_query('select Director, avg(Meta_score) from imdb_top_1000 group by Director order by avg(Meta_score) desc limit 5',connection )\n",
    "    print(top4)\n",
    "    print(\"top 10 stars（leading roles） with the highest average meta score: \")\n",
    "    top5 = pd.read_sql_query('select Star1, avg(Meta_score) from imdb_top_1000 group by Star1 order by avg(Meta_score) desc limit 10',connection )\n",
    "    print(top5)\n",
    "    \n",
    "\n"
   ]
  },
  {
   "cell_type": "code",
   "execution_count": null,
   "metadata": {},
   "outputs": [],
   "source": [
    "if field_explore == \"meta\":\n",
    "        print(\"the lowest meta score among all movies is 28 and the highest score is 100\")\n",
    "        print(\"you can type in your score range and we will show you movies whose ratings are within the range\")\n",
    "        meta_min = int(input(\"you want movies whose meta scores are higher than what value - smallest value of your score range\"))\n",
    "        meta_max = int(input(\"you want movies whose meta scores are lower than what value - greatest value of your score range\"))                \n",
    "        explore_meta(meta_max,meta_min)\n",
    "        specific_movie_yes = input(\"do you want to look at any of these movies closely? type y/n\")\n",
    "        if specific_movie_yes == 'y':                  \n",
    "            a_specific_movie()                           \n",
    "                                   \n",
    "        ask = input(\"do you want to see more statistics of this field. please type y/n\")\n",
    "        if ask == 'y':\n",
    "            stat_meta()      "
   ]
  },
  {
   "cell_type": "markdown",
   "metadata": {},
   "source": [
    "# if you want to explore a director ~"
   ]
  },
  {
   "cell_type": "code",
   "execution_count": null,
   "metadata": {},
   "outputs": [],
   "source": [
    "def explore_directors(directors):\n",
    "    directors = \"'{}'\".format(directors)\n",
    "    txt3 = \"select count(distinct Series_Title) from imdb_top_1000 where Director = {}\".format(directors)\n",
    "    top = pd.read_sql_query(txt3,connection)\n",
    "    print(\"the number of movies directed by this director:\")\n",
    "    print(top)\n",
    "    print(\"These movies are:\")\n",
    "    txt4 = \"select Series_Title from imdb_top_1000 where Director = {}\".format(directors)\n",
    "    top1 = pd.read_sql_query(txt4,connection)\n",
    "    print(top1)\n",
    "    "
   ]
  },
  {
   "cell_type": "code",
   "execution_count": null,
   "metadata": {},
   "outputs": [],
   "source": [
    "def stat_director():\n",
    "    print(\"let's look at some statistics of director\")\n",
    "    print(\"the director with the maximum movie production:\")\n",
    "    director_most = pd.read_sql_query('select Director, count(*) as number_of_movies from imdb_top_1000 group by Director having count(*) >= all(select count(*) from imdb_top_1000 group by Director)',connection)\n",
    "    print(director_most)\n",
    "    print(\"the director category with the minimum movie production:\")\n",
    "    director_least = pd.read_sql_query('select Director, count(*) as number_of_movies from imdb_top_1000 group by Director having count(*) <= all(select count(*) from imdb_top_1000 group by Director)',connection)\n",
    "    print(\"on average, the number of movie production by a director is :\")\n",
    "    avg_pro = pd.read_sql_query('select count(distinct Series_title)/count(distinct Director) as avg_production from imdb_top_1000 ',connection)\n",
    "    print(avg_pro)\n",
    "    print(\"top 5 directors with the highest average IMDB rating: \")\n",
    "    top = pd.read_sql_query('select Director, avg(IMDB_Rating) from imdb_top_1000 group by Director order by avg(IMDB_Rating) desc limit 5',connection )\n",
    "    print(top)"
   ]
  },
  {
   "cell_type": "code",
   "execution_count": null,
   "metadata": {},
   "outputs": [],
   "source": [
    "if field_explore == \"directors\":\n",
    "        num_director = pd.read_sql_query('select count(distinct Director) from imdb_top_1000 where Director != \"\"',connection)\n",
    "        print(\"the number of directors in total on IMDB top 1000 billboards\")  \n",
    "        print(num_director)                           \n",
    "        directors = input(\"Which director do you want to know more about? \")\n",
    "        mystr = \"bytearray(b'{}')\".format(directors)\n",
    "        query_dir = \"\"\"select distinct Director from imdb_top_1000\"\"\"\n",
    "        cursor.execute(query_dir)\n",
    "        my_l = list(cursor)\n",
    "        ifin = True\n",
    "        yes = 0\n",
    "        while ifin == True:\n",
    "            for i in my_l:\n",
    "                if str(i[0]) == mystr:\n",
    "                    yes = 1\n",
    "                    break\n",
    "            if yes == 1:\n",
    "                print(\"got it\")\n",
    "                break\n",
    "            else:\n",
    "                print(\"invalid input\")\n",
    "                directors = input(\"invalid. Please input again \")\n",
    "                mystr = \"bytearray(b'{}')\".format(directors)\n",
    "        \n",
    "        explore_directors(directors)\n",
    "        specific_movie_yes = input(\"do you want to look at any of these movies closely? type y/n\")\n",
    "        if specific_movie_yes == 'y':                  \n",
    "            a_specific_movie()\n",
    "        ask = input(\"do you want to see more statistics of this field. please type y/n\")\n",
    "        if ask == 'y':\n",
    "            stat_director()              "
   ]
  },
  {
   "cell_type": "markdown",
   "metadata": {},
   "source": [
    "# if you want to explore a star ~"
   ]
  },
  {
   "cell_type": "code",
   "execution_count": null,
   "metadata": {},
   "outputs": [],
   "source": [
    "def explore_star(star):\n",
    "    star = \"'{}'\".format(star)\n",
    "    txt3 = \"select count(distinct Series_Title) from imdb_top_1000 where Star1 = {} or Star2 = {} or Star3 = {}\".format(star,star,star)\n",
    "    top = pd.read_sql_query(txt3,connection)\n",
    "    print(\"the number of movies in which this actor is involved\")\n",
    "    print(top)\n",
    "    print(\"These movies are:\")\n",
    "    txt4 = \"select distinct Series_Title from imdb_top_1000 where Star1 = {} or Star2 = {} or Star3 = {}\".format(star,star,star)\n",
    "    top1 = pd.read_sql_query(txt4,connection)\n",
    "    print(top1)"
   ]
  },
  {
   "cell_type": "code",
   "execution_count": null,
   "metadata": {},
   "outputs": [],
   "source": [
    "def stat_star():\n",
    "    print(\"top 10 stars（leading roles） with the highest average IMDB rating: \")\n",
    "    top = pd.read_sql_query('select Star1, avg(IMDB_Rating) from imdb_top_1000 group by Star1 order by avg(IMDB_Rating) desc limit 10',connection )\n",
    "    print(top)"
   ]
  },
  {
   "cell_type": "code",
   "execution_count": null,
   "metadata": {},
   "outputs": [],
   "source": [
    "if field_explore == \"star\":\n",
    "        distinct_star = pd.read_sql_query('select distinct Star1 from imdb_top_1000 union select distinct Star2 from imdb_top_1000 union select distinct Star3 from imdb_top_1000',connection)\n",
    "        print(\"the number of stars in total on IMDB top 1000 billboards\")      \n",
    "        print(len(distinct_star))\n",
    "        star = input(\"Which star do you want to know more about? \")\n",
    "        mystr = \"bytearray(b'{}')\".format(star)\n",
    "        query_dir = \"\"\"select distinct Star1 from imdb_top_1000 union select distinct Star2 from imdb_top_1000 union select distinct Star3 from imdb_top_1000\"\"\"\n",
    "        cursor.execute(query_dir)\n",
    "        my_l = list(cursor)\n",
    "        ifin = True\n",
    "        yes = 0\n",
    "        while ifin == True:\n",
    "            for i in my_l:\n",
    "                if str(i[0]) == mystr:\n",
    "                    yes = 1\n",
    "                    break\n",
    "            if yes == 1:\n",
    "                print(\"got it\")\n",
    "                break\n",
    "            else:\n",
    "                print(\"invalid input\")\n",
    "                year = int(input(\"invalid. Please input again \"))           \n",
    "        explore_star(star)\n",
    "        specific_movie_yes = input(\"do you want to look at any of these movies closely? type y/n\")\n",
    "        if specific_movie_yes == 'y':                  \n",
    "            a_specific_movie()\n",
    "        ask = input(\"do you want to see more statistics of this field. please type y/n\")\n",
    "        if ask == 'y':\n",
    "            stat_star()          "
   ]
  },
  {
   "cell_type": "markdown",
   "metadata": {},
   "source": [
    "# if you want to explore a specific range of voting ~"
   ]
  },
  {
   "cell_type": "code",
   "execution_count": null,
   "metadata": {},
   "outputs": [],
   "source": [
    "def explore_vote(vote_max, vote_min ):\n",
    "    txt3 = \"select count(*) from imdb_top_1000 where No_of_Votes < {} and No_of_Votes > {}\".format(vote_max,vote_min)\n",
    "    top = pd.read_sql_query(txt3,connection)\n",
    "    print(\"the number of movies in this score range:\")\n",
    "    print(top)\n",
    "    print(\"These movies are:\")\n",
    "    txt4 = \"select Series_Title from imdb_top_1000 where No_of_Votes < {} and No_of_Votes > {}\".format(vote_max,vote_min)\n",
    "    top2 = pd.read_sql_query(txt4,connection)\n",
    "    print(top2)\n",
    "    "
   ]
  },
  {
   "cell_type": "code",
   "execution_count": null,
   "metadata": {},
   "outputs": [],
   "source": [
    "def stat_votes():\n",
    "    print(\"let's look at some statistics of votes\")\n",
    "    print(\"the average votes of all movies is:\")\n",
    "    avg_vote = pd.read_sql_query('select avg(No_of_Votes) from imdb_top_1000',connection)\n",
    "    print(avg_vote)\n",
    "    print(\"top 5 years with the highest average votes:\")\n",
    "    top1 = pd.read_sql_query('select Released_year, avg(No_of_Votes) from imdb_top_1000 group by Released_year order by avg(No_of_Votes) desc limit 5',connection )\n",
    "    print(top1)\n",
    "    print(\"the certification with the highest average votes: \")\n",
    "    top2 = pd.read_sql_query('select Certificate, avg(No_of_Votes) from imdb_top_1000 group by Certificate order by avg(No_of_Votes) desc limit 1' ,connection)\n",
    "    print(top2)\n",
    "    print(\"top 5 genre with the highest average votes: \")\n",
    "    top3 = pd.read_sql_query('select Genre, avg(No_of_Votes) from imdb_top_1000 group by Genre order by avg(No_of_Votes) desc limit 5',connection )\n",
    "    print(top3)\n",
    "    print(\"top 5 directors with the highest average votes: \")\n",
    "    top4 = pd.read_sql_query('select Director, avg(No_of_Votes) from imdb_top_1000 group by Director order by avg(No_of_Votes) desc limit 5',connection)\n",
    "    print(top4)\n",
    "    print(\"top 10 stars（leading roles） with the highest average votes: \")\n",
    "    top5 = pd.read_sql_query('select Star1, avg(No_of_Votes) from imdb_top_1000 group by Star1 order by avg(No_of_Votes) desc limit 10',connection)\n",
    "    print(top5)\n",
    "    "
   ]
  },
  {
   "cell_type": "code",
   "execution_count": null,
   "metadata": {},
   "outputs": [],
   "source": [
    "if field_explore == \"vote\":\n",
    "        print(\"the lowest votes among all movies is 25198 and the highest score is 2343110\")\n",
    "        print(\"you can type in your score range and we will show you movies whose ratings are within the range\")\n",
    "        vote_min = int(input(\"you want movies whose votes are higher than what value-smallest value of your score range\"))\n",
    "        vote_max = int(input(\"you want movies whose votes are lower than what value - greatest value of your score range\"))                 \n",
    "                    \n",
    "        explore_vote(vote_max, vote_min )\n",
    "        specific_movie_yes = input(\"do you want to look at any of these movies closely? type y/n\")\n",
    "        if specific_movie_yes == 'y':                  \n",
    "            a_specific_movie()     \n",
    "    \n",
    "        ask = input(\"do you want to see more statistics of this field. please type y/n\")\n",
    "        if ask == 'y':\n",
    "            stat_votes()"
   ]
  },
  {
   "cell_type": "markdown",
   "metadata": {},
   "source": [
    "# THANK YOU SO MUCH! Have a nice day~"
   ]
  },
  {
   "cell_type": "code",
   "execution_count": null,
   "metadata": {},
   "outputs": [],
   "source": []
  }
 ],
 "metadata": {
  "kernelspec": {
   "display_name": "Python 3",
   "language": "python",
   "name": "python3"
  },
  "language_info": {
   "codemirror_mode": {
    "name": "ipython",
    "version": 3
   },
   "file_extension": ".py",
   "mimetype": "text/x-python",
   "name": "python",
   "nbconvert_exporter": "python",
   "pygments_lexer": "ipython3",
   "version": "3.8.3"
  }
 },
 "nbformat": 4,
 "nbformat_minor": 4
}
